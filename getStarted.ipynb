{
 "cells": [
  {
   "cell_type": "code",
   "execution_count": 1,
   "metadata": {},
   "outputs": [
    {
     "name": "stdout",
     "output_type": "stream",
     "text": [
      "30\n"
     ]
    }
   ],
   "source": [
    "myFirstInteger=30\n",
    "print(30)"
   ]
  },
  {
   "cell_type": "code",
   "execution_count": 1,
   "metadata": {},
   "outputs": [
    {
     "name": "stdout",
     "output_type": "stream",
     "text": [
      "2.3333333333333335\n",
      "3\n",
      "8\n",
      "27\n",
      "3\n",
      "2\n"
     ]
    }
   ],
   "source": [
    "print(7/3) #Teilen\n",
    "print(1+2) #Addieren\n",
    "print (2*4) #Multiplizieren\n",
    "print (3**3) #Potenzieren\n",
    "print (17//5) #Teilen Ergebnis ist Ganzzahl\n",
    "print(17%5) #Teilen Ergebnis ist der Rest\n"
   ]
  },
  {
   "cell_type": "code",
   "execution_count": 3,
   "metadata": {},
   "outputs": [
    {
     "name": "stdout",
     "output_type": "stream",
     "text": [
      "62\n"
     ]
    }
   ],
   "source": [
    "age=42\n",
    "age=age+10\n",
    "age+=10\n",
    "\n",
    "print(age)"
   ]
  },
  {
   "cell_type": "code",
   "execution_count": 4,
   "metadata": {},
   "outputs": [
    {
     "name": "stdout",
     "output_type": "stream",
     "text": [
      "42\n",
      "110301821226184\n"
     ]
    }
   ],
   "source": [
    "age=42\n",
    "print(age) #Gibt den Inhalt des Speichers aus\n",
    "print(id(age)) #Gibt die Adresse des Speichers aus\n"
   ]
  },
  {
   "cell_type": "code",
   "execution_count": 6,
   "metadata": {},
   "outputs": [
    {
     "name": "stdout",
     "output_type": "stream",
     "text": [
      "{3, 4, 5}\n",
      "127009462398848\n",
      "{4, 5}\n",
      "127009462398848\n"
     ]
    }
   ],
   "source": [
    "myList=set() #Erstellen einer Liste\n",
    "myList.add(3) #Werte werden hinzugefügt\n",
    "myList.add(4)\n",
    "myList.add(5)\n",
    "print(myList)\n",
    "print(id(myList))\n",
    "myList.remove(3) #Werte werden entfernt\n",
    "print(myList)\n",
    "print(id(myList))\n"
   ]
  },
  {
   "cell_type": "code",
   "execution_count": 10,
   "metadata": {},
   "outputs": [
    {
     "name": "stdout",
     "output_type": "stream",
     "text": [
      "1\n",
      "1.75\n",
      "14kmh\n"
     ]
    }
   ],
   "source": [
    "t1=int(1.75)\n",
    "print(t1)\n",
    "t1=1.75\n",
    "print(t1)\n",
    "t1=\"14\"+\"kmh\"\n",
    "print(t1)"
   ]
  },
  {
   "cell_type": "code",
   "execution_count": 11,
   "metadata": {},
   "outputs": [
    {
     "name": "stdout",
     "output_type": "stream",
     "text": [
      "1048575\n"
     ]
    }
   ],
   "source": [
    "t2=int(\"FFFFF\",base=16) #Hexadezimalsystem\n",
    "print(t2)\n"
   ]
  },
  {
   "cell_type": "code",
   "execution_count": 12,
   "metadata": {},
   "outputs": [
    {
     "data": {
      "text/plain": [
       "sys.float_info(max=1.7976931348623157e+308, max_exp=1024, max_10_exp=308, min=2.2250738585072014e-308, min_exp=-1021, min_10_exp=-307, dig=15, mant_dig=53, epsilon=2.220446049250313e-16, radix=2, rounds=1)"
      ]
     },
     "execution_count": 12,
     "metadata": {},
     "output_type": "execute_result"
    }
   ],
   "source": [
    "import sys\n",
    "\n",
    "sys.float_info"
   ]
  },
  {
   "cell_type": "code",
   "execution_count": 13,
   "metadata": {},
   "outputs": [
    {
     "name": "stdout",
     "output_type": "stream",
     "text": [
      "True\n"
     ]
    }
   ],
   "source": [
    "print(0.3-(0.1*3)>-0.1 and 0.3-(0.1*3)<0.1)"
   ]
  },
  {
   "cell_type": "code",
   "execution_count": 15,
   "metadata": {},
   "outputs": [
    {
     "name": "stdout",
     "output_type": "stream",
     "text": [
      "1\n",
      "0\n",
      "False\n",
      "True\n",
      "False\n",
      "True\n",
      "True\n",
      "False\n",
      "Wahr\n"
     ]
    }
   ],
   "source": [
    "print(int(True))\n",
    "print(int(False))\n",
    "print(bool(0))\n",
    "print(bool(10))\n",
    "print(not True)\n",
    "print(not False)\n",
    "print (True or False)\n",
    "print (True and False)\n",
    "if 10 :\n",
    "    print(\"Wahr\")\n",
    "\n"
   ]
  },
  {
   "cell_type": "code",
   "execution_count": 17,
   "metadata": {},
   "outputs": [
    {
     "name": "stdout",
     "output_type": "stream",
     "text": [
      "3.14\n",
      "2.73\n",
      "(3.14-2.73j)\n"
     ]
    }
   ],
   "source": [
    "c= complex(3.14,2.73)\n",
    "print(c.real)\n",
    "print(c.imag)\n",
    "print(c.conjugate())"
   ]
  },
  {
   "cell_type": "code",
   "execution_count": 18,
   "metadata": {},
   "outputs": [
    {
     "name": "stdout",
     "output_type": "stream",
     "text": [
      "Hallo \n",
      " Welt\n"
     ]
    }
   ],
   "source": [
    "str=\"Hallo \\n Welt\"\n",
    "str1='Hallo Welt'\n",
    "print(str)"
   ]
  },
  {
   "cell_type": "code",
   "execution_count": 2,
   "metadata": {},
   "outputs": [
    {
     "name": "stdout",
     "output_type": "stream",
     "text": [
      "5\n"
     ]
    }
   ],
   "source": [
    "myFirstInteger=15\n",
    "mySecondInteger=10\n",
    "e=myFirstInteger-mySecondInteger #zwei Variablen subtrahiert und in Variable e gespeichert\n",
    "print(e)"
   ]
  }
 ],
 "metadata": {
  "kernelspec": {
   "display_name": "Python 3",
   "language": "python",
   "name": "python3"
  },
  "language_info": {
   "codemirror_mode": {
    "name": "ipython",
    "version": 3
   },
   "file_extension": ".py",
   "mimetype": "text/x-python",
   "name": "python",
   "nbconvert_exporter": "python",
   "pygments_lexer": "ipython3",
   "version": "3.12.1"
  }
 },
 "nbformat": 4,
 "nbformat_minor": 2
}
